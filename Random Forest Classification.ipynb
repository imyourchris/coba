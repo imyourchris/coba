{
 "cells": [
  {
   "cell_type": "markdown",
   "metadata": {},
   "source": [
    "# SKLEARN 16 | Random Forest Classification | Hutan Acak | Belajar Machine Learning Dasar\n",
    "\n",
    "Materi Pembelajaran dikutip dari sumber: https://www.youtube.com/watch?v=yKovaQ6tyV8\n",
    "\n",
    "Referensi: https://en.wikipedia.org/wiki/Random_forest\n",
    "\n",
    "## General ML Model Training\n",
    "\n",
    "![](./images/general_ML_model_training.png)\n",
    "\n",
    "## Ensemble Learning: heterogeneous & homogeneous\n",
    "\n",
    "Referensi: https://en.wikipedia.org/wiki/Ensemble_learning\n",
    "\n",
    "![](./images/ensemble_learning.png)\n",
    "\n",
    "+ Ensemble Learning adalah teknik menggabungkan beberapa model untuk prediksi.\n",
    "+ Training set yang tersedia akan digunakan untuk mentraining beberapa model.\n",
    "+ Terdapat 3 model yaitu KNN, SVM, dan Decision Tree.\n",
    "+ y_pred 1, y_pred 2, y_pred 3 akan disatukan menggunakan nilai Mean atau Mode. Lalu hasilnya akan dipresentasikan menjadi y_pred final.\n",
    "+ Jika kita memadukan beberapa machine learning yang sejenis dapat disebut **homogeneous**, sedangkan beberapa machine learning yang berbeda dapat disebut **heterogeneous**.\n",
    "\n",
    "## Bagging: Bootstrap Aggregating\n",
    "\n",
    "Referensi: https://en.wikipedia.org/wiki/Bootstrap_aggregating\n",
    "\n",
    "![](./images/bagging.png)\n",
    "\n",
    "+ Berikut kita mempelajari Homogeneous Ensemble Learning.\n",
    "+ Bootstrap Aggregating menerapkan Random Sampling with Replacement terhadap training set yang dimiliki dan menghasilkan beberapa training set baru sejumlah model yang kita training.\n",
    "+ Training set baru yang dihasilkan dikenal dengan istilah Bag. Terdapat 3 buah bag yaitu Bag 1, Bag 2 dan Bag 3.\n",
    "+ Bag akan digunakan untuk mentraining machine learning yang sejenis.\n",
    "+ Trained Model 1, Trained Model 2, dan Trained Model 3 akan digunakan untuk melakukan prediksi, 3 hasil prediksi akan disatukan dengan Majority Voting yaitu Mean or Mode.\n",
    "\n",
    "## Random Forest\n",
    "\n",
    "Referensi: https://en.wikipedia.org/wiki/Random_forest\n",
    "\n",
    "![](./images/random_forest.png)\n",
    "\n",
    "+ Random Forest merupakan implementasi dari Homogeneous Ensemble Learning yang menerapkan Decision Tree.\n",
    "+ Terdapat model yang sejenis yaitu Decision Tree.\n",
    "+ Random Forest terbentuk dari sekumpulan Decision Tree atau pohon keputusan.\n",
    "+ Random Forest menerapkan Features Randomness, dimana setiap bag yang dihasilkan akan mengadopsi sejumlah features yang dipilih secara acak dari training set sumbernya.\n",
    "+ Terdapat trained model yang beragam, walaupun menggunakan machine learning yang sejenis.\n",
    "+ Prediksi yang dihasilkan akan disatukan melalui proses Majority Voting untuk y_pred final.\n",
    "\n",
    "## Dataset\n",
    "\n",
    "Referensi: https://en.wikipedia.org/wiki/Iris_flower_data_set"
   ]
  },
  {
   "cell_type": "code",
   "execution_count": 1,
   "metadata": {},
   "outputs": [
    {
     "name": "stdout",
     "output_type": "stream",
     "text": [
      "Dimensi Feature: (150, 4)\n",
      "Class: {0, 1, 2}\n"
     ]
    }
   ],
   "source": [
    "from sklearn.datasets import load_iris\n",
    "\n",
    "X, y = load_iris(return_X_y=True)\n",
    "\n",
    "print(f'Dimensi Feature: {X.shape}')\n",
    "print(f'Class: {set(y)}')"
   ]
  },
  {
   "cell_type": "markdown",
   "metadata": {},
   "source": [
    "Berikut terdapat 150 baris dan 4 kolom, lalu terdapat 3 class."
   ]
  },
  {
   "cell_type": "code",
   "execution_count": 2,
   "metadata": {},
   "outputs": [],
   "source": [
    "from sklearn.model_selection import train_test_split\n",
    "\n",
    "X_train, X_test, y_train, y_test = train_test_split(X,\n",
    "                                                    y,\n",
    "                                                    test_size=0.3,\n",
    "                                                    random_state=0)"
   ]
  },
  {
   "cell_type": "markdown",
   "metadata": {},
   "source": [
    "## Classification dengan RandomForestClassifier"
   ]
  },
  {
   "cell_type": "code",
   "execution_count": 3,
   "metadata": {},
   "outputs": [
    {
     "data": {
      "text/plain": [
       "RandomForestClassifier(random_state=0)"
      ]
     },
     "execution_count": 3,
     "metadata": {},
     "output_type": "execute_result"
    }
   ],
   "source": [
    "from sklearn.ensemble import RandomForestClassifier\n",
    "\n",
    "model = RandomForestClassifier(n_estimators=100, \n",
    "                               random_state=0)\n",
    "\n",
    "model.fit(X_train, y_train)"
   ]
  },
  {
   "cell_type": "markdown",
   "metadata": {},
   "source": [
    "n_estimators=100 yaitu berapa banyak decision tree yang mau ditraining."
   ]
  },
  {
   "cell_type": "markdown",
   "metadata": {},
   "source": [
    "## Evaluasi Model"
   ]
  },
  {
   "cell_type": "code",
   "execution_count": 4,
   "metadata": {},
   "outputs": [
    {
     "name": "stdout",
     "output_type": "stream",
     "text": [
      "              precision    recall  f1-score   support\n",
      "\n",
      "           0       1.00      1.00      1.00        16\n",
      "           1       1.00      0.94      0.97        18\n",
      "           2       0.92      1.00      0.96        11\n",
      "\n",
      "    accuracy                           0.98        45\n",
      "   macro avg       0.97      0.98      0.98        45\n",
      "weighted avg       0.98      0.98      0.98        45\n",
      "\n"
     ]
    }
   ],
   "source": [
    "from sklearn.metrics import classification_report\n",
    "\n",
    "y_pred = model.predict(X_test)\n",
    "\n",
    "print(classification_report(y_test, y_pred))"
   ]
  }
 ],
 "metadata": {
  "kernelspec": {
   "display_name": "Python 3",
   "language": "python",
   "name": "python3"
  },
  "language_info": {
   "codemirror_mode": {
    "name": "ipython",
    "version": 3
   },
   "file_extension": ".py",
   "mimetype": "text/x-python",
   "name": "python",
   "nbconvert_exporter": "python",
   "pygments_lexer": "ipython3",
   "version": "3.8.5"
  }
 },
 "nbformat": 4,
 "nbformat_minor": 4
}

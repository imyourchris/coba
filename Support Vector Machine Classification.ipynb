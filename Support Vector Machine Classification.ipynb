{
 "cells": [
  {
   "cell_type": "markdown",
   "metadata": {},
   "source": [
    "# SKLearn 14 | Support Vector Machine Classification | SVM | Belajar Machine Learning Dasar\n",
    "\n",
    "Materi Pembelajaran dikutip dari sumber: https://www.youtube.com/watch?v=z69XYXpvVrE\n",
    "\n",
    "Referensi: https://www.svm-tutorial.com/\n",
    "\n",
    "Pada sesi pembelajaran kali ini, kita akan mempelajari salah satu model machine learning yaitu **\"Support Vector Machine\"** atau biasa disingkat sebagai **SVM**.\n",
    "\n",
    "**SVM** termasuk salah satu model machine learning yang cukup umum diterapkan pada **Classification Task**.\n",
    "\n",
    "## Konsep Dasar\n",
    "\n",
    "Ada beberapa konsep dasar yang diharapkan dapat membantu kita memahami mekanisme kerja dari **Support Vector Machine**. Untuk itu, kita akan cermati contoh kasus berikut ini.\n",
    "\n",
    "### Decision Boundary\n",
    "\n",
    "<!-- ![](./images/svm_linear.png) -->\n",
    "<div>\n",
    "    <img src=\"./images/svm_linear.png\" width=\"400\">\n",
    "</div>\n",
    "\n",
    "Semisal saja kita dihadapkan pada sebuah kasus klasifikasi dimana terdapat dua buah class, sebut saja kelas hitam dan putih (bisa dilihat pada gambar terdapat sekumpulan lingkaran berwarna hitam dan putih). Pada kasus ini juga terdapat dua buah feature yaitu $X_1$ dan $X_2$ (bisa diperhatikan pada sumbu $X_1$ dan $X_2$). Disini kita diminta untuk menarik suatu garis lurus atau garis linear yang dapat memisahkan kedua class tersebut. Dalam kasus **Classification Task**, pemisah atau pembatas antar class tersebut juga sering kali dikenal dengan istilah **Decision Boundary**.\n",
    "\n",
    "Semisal saja disini kita dihadapkan pada tiga pilihan garis linear yaitu $H_1, H_2, H_3$. $H_1$ direpresentasikan oleh garis berwarna hijau, $H_2$ direpresentasikan oleh garis berwarna biru, $H_3$ direpresentasikan oleh garis berwarna merah. Pada kali ini, kita diminta untuk memilih ketiga garis tersebut yang paling baik untuk digunakan sebagai **Decision Boundary** atau pemisah antar 2 class yang kita miliki. Kita akan bersama-sama mencermati satu per satu ketiga garis tersebut.\n",
    "\n",
    "+ Pertama-tama kita akan mencermati garis $H_1$ atau garis berwarna hijau. Jika kita perhatikan pada garis tersebut, akan terlihat jelas bahwa garis $H_1$ tersebut tidak bisa digunakan sebagai garis pemisah antar dua class yang kita miliki.\n",
    "+ Berarti disini pilihannya hanya tinggal dua yaitu garis $H_2$ dan $H_3$. Jika kita perhatikan pada keda garis tersebut, kedua garis tersebut dapat memisahkan kedua class yang kita miliki dengan sempurna.\n",
    "+ Yang menjadi pertanyaan berikutnya adalah, manakah dari kedua garis tersebut antara $H_2$ atau $H_3$ yang paling baik dalam memisahkan kedua class kita? dan jawabannya adalah garis $H_3$ dengan alasan karena garis $H_3$ memiliki margin yang lebih besar bila dibandingkan dengan garis $H_2$.\n",
    "\n",
    "## Hyperplane\n",
    "\n",
    "Terminologi pertama yang akan kita pelajari adalah **Hyperplane**. Merupakan terminologi yang umum digunakan dalam dalam **SVM** untuk merepresentasikan **Decision Boundary**. Kita akan menggunakan studi kasus dibawah ini yang sudah kita gunakan sebelumnya.\n",
    "<div>\n",
    "    <img src=\"./images/svm_linear.png\" width=\"400\">\n",
    "</div>\n",
    "\n",
    "Berdasarkan gambar diatas kita dihadapkan pada 2 buah feature, maka kita memiliki plotting dua dimensi, $X_1$ merupakan feature pertama dan $X_2$ merupakan feature kedua dan ketika datanya diplotting, maka kita akan memperoleh plotting dua dimensi. Oleh karenanya, **Decision Boundary** yang kita peroleh berupa suatu garis yang dalam kasus ini berupa garis lurus atau garis linear. Tetapi ketika kita hanya memiliki satu feature saja, maka **Decision Boundary** atau pemisah antara classnya akan berupa titik atau nilai **Threshold**. Lalu ketika terdapat tiga buah feature, maka **Decision Boundary** nya berupa sebuah bidang datar atau juga biasa dikenal dengan istilah **Plane**. Ketika terdapat 4 atau lebih feature, maka pemisah antar classnya berupa bidang multidimensi atau biasa dikenal dengan istilah **Hyperplane**. Pada **SVM**, untuk menyederhanakan istilah, maka setiap **Decision Boundary** yang dihasilkan, umumnya akan disebut sebagai **Hyperplane**.\n",
    "\n",
    "Pada intinya, **SVM** ini mencari **Decision Boundary** yang dapat memisahkan antar class dengan baik.\n",
    "\n",
    "### Maximum Margin\n",
    "\n",
    "Pada kali ini, pertama-tama kita akan memahami terlebih dahulu apa itu **Margin** ?. **Margin** ditentukan berdasarkan jarak terdekat antara **Decision Boundary** dengan anggota dari class yang ingin dipisahkan. Untuk bisa memahaminya dengan lebih baik, kita akan memanfaatkan contoh kasus dibawah ini.\n",
    "\n",
    "<!-- ![](./images/svm_margin.png) -->\n",
    "<div>\n",
    "    <img src=\"./images/svm_margin.png\" width=\"400\">\n",
    "</div>\n",
    "\n",
    "Pada kasus kali ini terdapat dua buah class yaitu kelas **biru** dan kelas **hijau**. Disini juga terdapat dua buah feature yaitu $X_1$ dan $X_2$. Lalu semisal saja disini kita memiliki sebuah **Decision Boundary** berupa garis linear berwarna **merah** (lihat pada gambar) yang digunakan untuk memisahkan kedua class yang kita miliki. Garis linear atau garis lurus berwarna **merah** tersebut merupakan **Decision Boundary** yang memisahkan kelas **biru** dan kelas **hijau** dan area yang diarsir dengan warna **kuning** inilah yang dinamakan dengan **Margin**. Pada gambar tersebut bisa dilihat bahwa terdapat suatu area yang mengapit **Decision Boundary** yang diarsir dengan warna **kuning**, area inilah yang dinamakan **Margin**. **Margin** sendiri diperoleh berdasarkan jarak terdekat antara **Decision Boundary** dengan anggota dari class yang ingin dipisahkan dan setiap anggota class yang berperan untuk menentukan **Margin** dikenal sebagai **Support Vector**. Untuk kasus kita disini, terdapat 3 point sebagai **Support Vector** untuk kasus kita kali ini, dimana **Support Vector** tersebut merupakan anggota dari suatu class yang posisinya paling dekat dengan **Decision Boundary**. Dalam menentukan **Decision Boundary**, **SVM** akan memilih berdasarkan **Margin** terbesar atau juga dikenal dengan istilah **Maximum Margin**.\n",
    "\n",
    "### Linearly Inseperable<br>& Kernel Tricks\n",
    "\n",
    "Referensi: https://www.quora.com/What-is-the-kernel-trick\n",
    "\n",
    "Pada kedua contoh kasus sebelumnya, kita sudah mengenal pemanfaatan dari garis lurus atau linear sebagai **Decision Boundary**. Hanya saja, terdapat beberapa kasus dimana class yang ada tidak bisa dipisahkan dengan memanfaatkan garis linear. Untuk lebih jelasnya, kita akan bersama-sama mempelajari contoh kasus pada gambar dibawah ini.\n",
    "\n",
    "<div>\n",
    "    <img src=\"./images/svm_kernel_01.png\" width=\"800\">\n",
    "</div>    \n",
    "\n",
    "Pada contoh kasus tersebut, juga terdapat 2 buah class yaitu class **titik** dan class **x** (perhatikan pada gambar sisi kiri). Pada gambar tersebut juga terdapat 2 buah feature sehingga ketika dilakukan plotting, kita akan mendapatkan plotting 2 dimensi tersebut. Jika perhatikan pada kasus kali ini (pada gambar sisi kiri), tidaklah memungkinkan bagi kita untuk menarik garis linear sebagai **Decision Boundary**, kondisi tersebut juga dikenal dengan istilah **Linearly Inseperable**. untuk mengatasi semacam tersebut, **SVM** akan memproyeksikan data yang ada ke **Higher Dimention** atau ke dimensi yang lebih tinggi artinya, bila data yang sebelumnya berada dalam 2 dimensi, maka **SVM** akan memproyeksikannya ke 3 dimensi (bisa dilihat pada gambar pada sisi sebelah kanan) yang merupakan hasil proyeksi 3 dimensi dari data sebelumnya yang berbentuk 2 dimensi, dan bisa kita lihat pada gambar tersebut, setelah diproyeksikan ke dimensi yang lebih tinggi, kedua class **titik** dan class **x** tersebut bisa dipisahkan dengan lebih mudah yaitu dengan menerapkan **Decision Boundary** berbentuk bidang datar.\n",
    "\n",
    "Jadi pada gambar sisi sebelah kanan atau tiga dimensi tersebut kita bisa menempatkan suatu bidang datar yang akan berperan sebagai Decision Boundary yang memisahkan antara class **titik** dengan class **x**. Upaya untuk memproyeksikan sekumpulan data ke dimensi yang lebih tinggi tentunya juga akan berdampak pada kenaikan beban komputasi. Untuk menjawab kebutuhan tersebut, **SVM** menawarkan teknik yang sangat efisien yang dikenal dengan istilah **Kernel Tricks**. **SVM** sendiri menawarkan beberapan jenis kernel seperti **Polynomial**, **Sigmoid**, dan **RBF** atau **Radial Basis Function**.\n",
    "\n",
    "Pemanfaatan **SVM** dan **Kernel Tricks** untuk membentuk **Decision Boundary** inilah yang akhirnya menjadikan model machine learning ini diberi nama **Support Vector Machine** yang merupakan beberapa konsep dasar yang perlu diketahui terkait **SVM**.\n",
    "\n",
    "Selanjutnya kita akan mempelajari beberapa pengaplikasian **SVM** dengan memanfaatkan **SKLearn**.\n",
    "\n",
    "## Dataset: The MNIST database of handwritten digits\n",
    "\n",
    "Referensi: http://yann.lecun.com/exdb/mnist/"
   ]
  },
  {
   "cell_type": "code",
   "execution_count": 1,
   "metadata": {},
   "outputs": [
    {
     "data": {
      "text/plain": [
       "(70000, 784)"
      ]
     },
     "execution_count": 1,
     "metadata": {},
     "output_type": "execute_result"
    }
   ],
   "source": [
    "from sklearn.datasets import fetch_openml\n",
    "\n",
    "X, y = fetch_openml('mnist_784', data_home='./dataset/mnist', return_X_y=True)\n",
    "X.shape"
   ]
  },
  {
   "cell_type": "markdown",
   "metadata": {},
   "source": [
    "Caranya:\n",
    "\n",
    "+ Pertama-tama kita akan siapkan terlebih dahulu datasetnya. Untuk kasus kita kali ini, kita akan mengadopsi **Handwritten Digits** yang merupakan open dataset yang ditawarkan oleh **MNIST**. Walaupun dataset ini tidak disertakan dalam sebagai sample dataset pada **SKLearn**, tetapi kita bisa mendownloadnya dengan memanfaatkan modul _fetchopenml karena dataset ini juga tersedia pada repositori openml.\n",
    "+ Lalu kita mengimport terlebih dahulu modul _fetchopenml dengan memanggil fungsi \"from sklearn.datasets import fetch_openml\".\n",
    "+ Lalu berikutnya, kita tinggal panggil saja \"fetch_openml\" dan menyebutkan nama datasetnya adalah 'mnist_784', lalu kita juga akan spesifikasikan lokasi pada lokal machine kita untuk mendownload datasetnya yang untuk kasus kita kali ini, kita akan tempatkan pada directory dataset mnist \"data_home='./dataset/mnist/'\".\n",
    "+ Lalu berikutnya, kita akan langsung pisahkan antara feature dengan target labelnya. Oleh karenanya, kita disini sertakan \"return_X_y\" yang diberi nilai True.\n",
    "+ Disini juga kita akan menyertakan variabel X dan y dimana variabel X akan menampung sekumpulan nilai features dan variabel y digunakan untuk menampung sekumpulan nilai target labelnya.\n",
    "+ Lalu berikutnya kita akan tampilkan dimensi data dari featuresnya.\n",
    "\n",
    "**Note : sewaktu kita mengeksekusi script tersebut, pastikan kita memiliki koneksi internet yang baik karena fetch openml ini akan melakukan proses download dataset melalui jaringan internet yang lamanya ditentukan dari kecepatan internet kita masing-masing.**\n",
    "\n",
    "Bisa kita lihat pada hasil output code diatas, dimensi variabel X nya adalah 70000 untuk jumlah barisnya dan 784 untuk jumlah kolomnya, dengan kata lain disini kita bisa menyimpulkan bahwa ukuran dataset kita pada kali ini lumayan besar bila dibandingkan dengan dataset lain yang pernah kita gunakan sebelumnya. Disini terdapat 70000 gambar berbeda yang berisi tulisan tangan manusia yang mencakup angka 0 sampai dengan 9. Dataset ini juga umum digunakan untuk melakukan perbandingan model machine learning dalam mengenali angka atau bilangan dari tulisan tangan manusia.\n",
    "\n",
    "Terdapat salah seorang tokoh besar dalam bidang computer vision yang terlibat dalam pengelolaan dataset ini, namanya adalah \n",
    "**Yann Lecun**. Beliau memiliki konstribusi besar dalam bidang **OCI** atau **Optical Character Recognition** dan juga **Handwritten Recognition**.\n",
    "\n",
    "Selanjutnya kita akan mencoba untuk menampilkan 8 data pertama dari dataset ini. Karena dataset kali ini merupakan data image atau data gambar, maka kita akan menggunakan mathplotlib untuk menampilkan datanya."
   ]
  },
  {
   "cell_type": "code",
   "execution_count": 2,
   "metadata": {},
   "outputs": [
    {
     "data": {
      "image/png": "[encoded data removed]",
      "text/plain": [
       "<Figure size 432x288 with 8 Axes>"
      ]
     },
     "metadata": {
      "needs_background": "light"
     },
     "output_type": "display_data"
    }
   ],
   "source": [
    "import matplotlib.pyplot as plt\n",
    "import matplotlib.cm as cm\n",
    "\n",
    "pos = 1\n",
    "for data in X[:8]:\n",
    "    plt.subplot(1, 8, pos)\n",
    "    plt.imshow(data.reshape((28, 28)), \n",
    "               cmap=cm.Greys_r)\n",
    "    plt.axis('off')\n",
    "    pos += 1\n",
    "\n",
    "plt.show()"
   ]
  },
  {
   "cell_type": "markdown",
   "metadata": {},
   "source": [
    "Caranya:\n",
    "\n",
    "+ Disini pertama-tama kita akan import terlebih dahulu modulnya dengan memanggil method atau fungsi \"import matplotlib.pyplot as plt\" dan juga kita akan mengimport \"import matplotlib.cm as cm\". Dimana cm ini merepresentasikan **Colour Map**.\n",
    "+ Lalu selanjutnya kita akan mencoba melakukan looping terhadap 8 baris pertama dari dataset kita. Oleh karenanya kita memanggil \"for data in X[:8]:\" dimana kita melakukan slishing pada 8 data pertama atau 8 baris pertama dari variabel **X**.\n",
    "+ Untuk selanjutnya kita akan melakukan plotting dengan memanfaatkan pyplot. Datanya juga akan di reshape ke 28 x 28, karena untuk setiap gambarnya terdiri dari 28 x 28 px.\n",
    "+ Bisa kita lihat pada output code diatas, 8 data pertama yang merupakan tulisan tangan manusia atau **Human Handwritten** yang merepresentasikan bilangan atau angka. Bagi kita manusia, tentunya sangat mudah untuk memahami angka-angka pada hasil output code diatas tersebut. Tetapi bagi komputer, ini bukan merupakan hal yang mudah."
   ]
  },
  {
   "cell_type": "code",
   "execution_count": 3,
   "metadata": {},
   "outputs": [
    {
     "data": {
      "text/plain": [
       "array(['5', '0', '4', '1', '9', '2', '1', '3'], dtype=object)"
      ]
     },
     "execution_count": 3,
     "metadata": {},
     "output_type": "execute_result"
    }
   ],
   "source": [
    "y[:8]"
   ]
  },
  {
   "cell_type": "markdown",
   "metadata": {},
   "source": [
    "Bisa dilihat pada code diatas bertujuan untuk menampilkan 8 label yang berkolerasi dengan 8 data pertama tersebut pada code sebelumnya. Dimana data pertama akan diberi label **5**, gambar kedua akan diberi label **0**, gambar ketiga akan diberi label **4**, gambar keempat akan diberi label **1**, gambar kelima akan diberi label **9**, gambar keenam akan diberi label **2**, gambar ketujuh akan diberi label **1**, dan gambar kedelapan akan diberi label **3**.\n",
    "\n",
    "Kita akan melakukan training model kita untuk mempelajari data tersebut. Karena jumlah target labelnya berupa angka atau bilangan, maka jumlah classnya akan ada 10 yaitu mulai dari class 0, 1, 2, 3, sampai dengan 9.\n",
    "\n",
    "Selanjutnya kita akan bagi dataset ini kedalam training dan testing set. Hanya saja kali ini kita tidak akan menggunakan keseluruhan dataset yang ada, hal ini dimaksudkan agar proses training model yang akan kita lakukan dalam kali ini tidak terlalu panjang."
   ]
  },
  {
   "cell_type": "code",
   "execution_count": 4,
   "metadata": {},
   "outputs": [],
   "source": [
    "# X_train = X[:60000]\n",
    "# y_train = y[:60000]\n",
    "# X_test = X[60000:]\n",
    "# y_test = y[60000:]\n",
    "\n",
    "X_train = X[:1000]\n",
    "y_train = y[:1000]\n",
    "X_test = X[69000:]\n",
    "y_test = y[69000:]"
   ]
  },
  {
   "cell_type": "markdown",
   "metadata": {},
   "source": [
    "+ Pada code tersebut terdapat dua bagian yaitu ada bagian yang di comment lalu ada juga yang uncomment. Untuk bagian yang di comment tersebut, merupakan bagian yang sebaiknya dicoba pada pc atau komputer kita masing-masing.\n",
    "+ Bisa kita lihat ketika kita mencoba, kita akan menggunakan 60000 data pertama sebagai training set dan 1000 data yang terakhir akan kita gunakan sebagai testing set nya. Hanya saja untuk yang kita lakukan atau demokan kali ini, kita hanya akan menggunakan 1000 data pertama sebagai training set dan 1000 data terakhir sebagai testing set.\n",
    "+ Setelah training set dan testing set nya terbentuk, maka kita akan coba melanjutkan pada tahapan berikutnya."
   ]
  },
  {
   "cell_type": "markdown",
   "metadata": {},
   "source": [
    "## Classification dengan SVC (Support Vector Classifier)\n",
    "\n",
    "Pada kali ini kita akan menerapkan **Support Vector Machine** untuk melakukan klasifikasi angka numerik berdasarkan dataset tulisan tangan yang kita miliki. Pertama-tama, kita akan training modelnya terlebih dahulu yang akan dilakukan pada code berikut."
   ]
  },
  {
   "cell_type": "code",
   "execution_count": 5,
   "metadata": {},
   "outputs": [
    {
     "data": {
      "text/plain": [
       "SVC(random_state=0)"
      ]
     },
     "execution_count": 5,
     "metadata": {},
     "output_type": "execute_result"
    }
   ],
   "source": [
    "from sklearn.svm import SVC\n",
    "\n",
    "model = SVC(random_state=0)\n",
    "model.fit(X_train, y_train)"
   ]
  },
  {
   "cell_type": "markdown",
   "metadata": {},
   "source": [
    "Caranya:\n",
    "\n",
    "+ Pertama-tama kita akan mengimport modulnya terlebih dahulu dengan memanfaatkan modul SVC atau Support Vector Classifier dengan memanggil method \"from sklearn.svm import SVC\".\n",
    "+ Lalu berikutnya kita akan membentuk objek dari modelnya \"SVC\" dengan menyertakan parameter \"(random_state)\" yang kita beri nilai 0. Lalu objek model yang terbentuk, akan ditampung kedalam variabel \"model\".\n",
    "+ Untuk selanjutnya objek \"model\" tersebut akan kita training dengan method \".fit\" dan menyertakan training set nya yaitu \"(X_train, y_train)\".\n",
    "\n",
    "Setelah modelnya ditraining, selanjutnya kita akan melakukan evaluasi performa dari model yang baru saja kita training tersebut dengan memanfaatkan Classification Report (lihat pada code selanjutnya)."
   ]
  },
  {
   "cell_type": "code",
   "execution_count": 6,
   "metadata": {},
   "outputs": [
    {
     "name": "stdout",
     "output_type": "stream",
     "text": [
      "              precision    recall  f1-score   support\n",
      "\n",
      "           0       0.93      0.98      0.95       102\n",
      "           1       0.97      0.99      0.98       119\n",
      "           2       0.85      0.82      0.84        99\n",
      "           3       0.97      0.87      0.92       102\n",
      "           4       0.88      0.95      0.91        92\n",
      "           5       0.91      0.86      0.88        85\n",
      "           6       0.93      0.95      0.94       102\n",
      "           7       0.92      0.94      0.93       115\n",
      "           8       0.89      0.94      0.91        94\n",
      "           9       0.92      0.84      0.88        90\n",
      "\n",
      "    accuracy                           0.92      1000\n",
      "   macro avg       0.92      0.91      0.91      1000\n",
      "weighted avg       0.92      0.92      0.92      1000\n",
      "\n"
     ]
    }
   ],
   "source": [
    "from sklearn.metrics import classification_report\n",
    "\n",
    "y_pred = model.predict(X_test)\n",
    "print(classification_report(y_test, y_pred))"
   ]
  },
  {
   "cell_type": "markdown",
   "metadata": {},
   "source": [
    "Caranya:\n",
    "\n",
    "+ Pertama-tama kita akan mengimport terlebih dahulu Classification Report nya dengan memanggil method \"from sklearn.metrics import classification_report\".\n",
    "+ Lalu berikutnya, kita akan menggunakan testing set nya untuk melakukan prediksi dengan memanggil method \"model.predict(X_test)\" yang hasil prediksinya akan ditampung kedalam variabel \"y_pred\".\n",
    "+ Untuk selanjutnya, hasil prediksi tersebut akan kita bandingkan dengan \"y_test\" nya dengan memanggil method \"(classification_report(y_test, y_pred))\" lalu kita akan print atau cetak hasilnya.\n",
    "\n",
    "Berdasarkan hasil output code diatas, terdapat 10 buah class yaitu class 0 sampai dengan 9 untuk setiap classnya terdapat nilai precission, recall, dan juga f1-score. Lalu pada hasil code tersebut juga kita memiliki nilai precission, recall, f1-score, dan juga accuracy secara keseluruhan."
   ]
  },
  {
   "cell_type": "markdown",
   "metadata": {},
   "source": [
    "## Hyperparameter Tuning dengan GridSearchCV\n",
    "\n",
    "Referensi: https://en.wikipedia.org/wiki/Hyperparameter_optimization\n",
    "\n",
    "Sejauh ini dalam pembelajaran mengenai machine learning, kita hampir selalu menggunakan default parameter setiap kali melakukan training model. Padahal untuk tiap model machine learning, terdapat sejumlah parameter yang bisa kita sesuaikan. Dalam konteks machine learning, parameter yang digunakan untuk mengatur proses training dari suatu model, dikenal dengan istilah **Hyperparameter**, dan proses untuk mencari komposisi nilai optimum dari **Hyperparameter** dikenal dengan istilah **Hyperparameter Tuning** atau **Hyperparameter Optimization**.\n",
    "\n",
    "Pada kali ini kita akan melakukan **Hyperparameter Tuning** dengan memanfaatkan modul **GridSearchCV** yang sudah disertakan oleh SkLearn."
   ]
  },
  {
   "cell_type": "code",
   "execution_count": 7,
   "metadata": {},
   "outputs": [
    {
     "name": "stdout",
     "output_type": "stream",
     "text": [
      "Fitting 5 folds for each of 60 candidates, totalling 300 fits\n"
     ]
    },
    {
     "name": "stderr",
     "output_type": "stream",
     "text": [
      "[Parallel(n_jobs=6)]: Using backend LokyBackend with 6 concurrent workers.\n",
      "[Parallel(n_jobs=6)]: Done  38 tasks      | elapsed:   19.0s\n",
      "[Parallel(n_jobs=6)]: Done 188 tasks      | elapsed:  1.3min\n",
      "[Parallel(n_jobs=6)]: Done 300 out of 300 | elapsed:  2.1min finished\n"
     ]
    },
    {
     "data": {
      "text/plain": [
       "GridSearchCV(estimator=SVC(random_state=0), n_jobs=6,\n",
       "             param_grid={'C': [0.5, 1, 10, 100],\n",
       "                         'gamma': ['scale', 1, 0.1, 0.01, 0.001],\n",
       "                         'kernel': ['rbf', 'poly', 'sigmoid']},\n",
       "             scoring='accuracy', verbose=1)"
      ]
     },
     "execution_count": 7,
     "metadata": {},
     "output_type": "execute_result"
    }
   ],
   "source": [
    "from sklearn.model_selection import GridSearchCV\n",
    "\n",
    "parameters = {\n",
    "    'kernel': ['rbf', 'poly', 'sigmoid'],\n",
    "    'C': [0.5, 1, 10, 100],\n",
    "    'gamma': ['scale', 1, 0.1, 0.01, 0.001]\n",
    "}\n",
    "\n",
    "grid_search = GridSearchCV(estimator=SVC(random_state=0),\n",
    "                           param_grid=parameters,\n",
    "                           n_jobs=6,\n",
    "                           verbose=1,\n",
    "                           scoring='accuracy')\n",
    "\n",
    "grid_search.fit(X_train, y_train)"
   ]
  },
  {
   "cell_type": "markdown",
   "metadata": {},
   "source": [
    "Caranya:\n",
    "\n",
    "+ Disini pertama-tama kita akan mengimport terlebih dahulu modulnya dengan memanggil method \"from sklearn.model_selection import GridSearchCV\".\n",
    "+ Lalu berikutnya kita akan spesifikasikan sekumpulan parameter beserta pilihan nilai yang akan kita kombinasikan. Semisal saja disini, kita ingin melakukan parameter tuning untuk tiga parameter yaitu \"kernel\", \"C\", dan \"gamma\" dan ketiganya tersebut merupakan yang bisa ditemui didalam **SVM**.\n",
    "+ Lalu berikutnya, untuk setiap parameter tersebut akan kita tentukan pilihan nilainya. Untuk \"kernel\" disini pilihannya ada \"['rbf', 'poly', 'sigmoid']\", untuk nilai \"C\" disini kita tentukan angkanya yaitu \"[0.5, 1, 10, 100]\", dan untuk \"gamma\" nya kita tentukan pilihannya mulai dari \"['scale', 1, 0.1, 0.01, 0.001]\".\n",
    "+ Pada intinya disini kita akan mencari tahu kombinasi nilai yang paling baik untuk parameter \"kernel\", \"C\", dan \"gamma\" yang bisa kita terapkan terhadap objek **Support Vector Classifier** pada kasus kita. Kita bisa saja mencobanya satu persatu dengan memanfaatkan looping, hanya saja kode program yang dihasilkan tidak akan bersih. Oleh karenanya, disini kita akan mencoba memanfaatkan fasilitas yang sudah ditawarkan oleh SkLearn yang dalam hal ini adalah **GridSearch**.\n",
    "+ Cara menggunakan **GridSearch** pun cukup sederhana. Pertama-tama kita akan membentuk objek dari **GridSearchCv** nya dengan memanggil method \"GridSearchCV\" dengan menyertakan beberapa parameter. Parameter pertama adalah \"(estimator=SVC(random_state=0)\". Lalu berikutnya, kita juga perlu spesifikasikan \"param_grid\" atau parameter grid yang nilainya akan kita asosiasikan dengan \"parameters\" yang baru saja kita spesifikasikan sebelumnya. Selanjutnya yang akan kita atur adalah \"n_jobs\" atau number of jobs yang pada kali ini kita set sebagai 6 yang artinya kita mau menjalankan proses ini secara pararel pada 6 thread dari processor kita (yang kita sesuaikan dengan processor yang kita miliki). Lalu berikutnya, kita juga akan menset parameter \"verbose\" nya dengan nilai 1 bertujuan agar ketika prosesnya berjalan, kita juga mendapatkan feedback yang cukup informatif. Lalu berikutnya kita juga perlu menentukan parameter \"scoring\" yang untuk kasus kita kali ini, kita set nilainya dengan \"accuracy\" artinya nilai pebanding yang kita gunakan adalah accuracy.\n",
    "+ Setelah objek \"GridSearchCV\" nya terbentuk, objeknya akan kita tampung kedalam variabel \"grid_search\".\n",
    "+ Lalu penerapannya juga cukup mudah, disini kita tidak lagi memanggil \"model.fit\" melainkan method fit tersebut akan kita panggil dari objek \"grid_search\" nya \"grid_search.fit(X_train, y_train)\".\n",
    "\n",
    "Bisa kita lihat pada hasil code diatas tersebut bahwa fittingnya akan dilakukan 5 fold atau 5 kali dimana untuk setiap foldnya terdapat 60 candidates, artinya total terdapat 300 proses fitting yang terjadi.\n",
    "\n",
    "Disini kita juga bisa mendapatkan informasi terkait komposisi nilai parameter paling optimum dari hasil pencarian Grid Search ini (perhatikan prosesnya pada code selanjutnya)."
   ]
  },
  {
   "cell_type": "code",
   "execution_count": 8,
   "metadata": {},
   "outputs": [
    {
     "name": "stdout",
     "output_type": "stream",
     "text": [
      "Best Score: 0.907\n",
      "Best Parameters:\n",
      "\tkernel: rbf\n",
      "\tC: 10\n",
      "\tgamma: scale\n"
     ]
    }
   ],
   "source": [
    "print(f'Best Score: {grid_search.best_score_}')\n",
    "\n",
    "best_params = grid_search.best_estimator_.get_params()\n",
    "print(f'Best Parameters:')\n",
    "for param in parameters:\n",
    "    print(f'\\t{param}: {best_params[param]}')"
   ]
  },
  {
   "cell_type": "markdown",
   "metadata": {},
   "source": [
    "Caranya:\n",
    "\n",
    "+ Pertama-tama disini kita akan mencoba mengakses terlebih dahulu score terbaiknya atau akurasi terbaiknya dengan cara memanggil method \"grid_search.bestscore\" yang kita sertakan fungsi print untuk melihat hasilnya.\n",
    "+ Pada tahapan berikutnya, kita juga bisa mendapatkan nilai parameter terbaiknya dengan mengakses method \"grid_search.bestestimator.get_params()\". Lalu sekumpulan nilai parameter tersebut akan kita tampung kedalam variabel \"best_params\".\n",
    "+ Untuk selanjutnya akan kita looping dan coba kita tampilkan pada layar.\n",
    "\n",
    "Bisa kita lihat pada output code diatas, bisa terlihat bahwa score accuracy terbaik dari proses Grid Search nya adalah 0.907 dan komposisi nilai parameters terbaik yang berhasil ditemukan adalah **kernelnya** adalah rbf, nilai **C** nya adalah 10, dan nilai parameter **gammanya** adalah scale."
   ]
  },
  {
   "cell_type": "markdown",
   "metadata": {},
   "source": [
    "## Predict & Evaluate\n",
    "\n",
    "Selanjutnya kita akan melakukan evaluasi performa dari model yang baru saja kita training tadi. Disini kita juga akan memanfaatkan Classification Report."
   ]
  },
  {
   "cell_type": "code",
   "execution_count": 9,
   "metadata": {},
   "outputs": [
    {
     "name": "stdout",
     "output_type": "stream",
     "text": [
      "              precision    recall  f1-score   support\n",
      "\n",
      "           0       0.93      0.98      0.96       102\n",
      "           1       0.98      0.99      0.98       119\n",
      "           2       0.87      0.85      0.86        99\n",
      "           3       0.99      0.89      0.94       102\n",
      "           4       0.91      0.95      0.93        92\n",
      "           5       0.92      0.89      0.90        85\n",
      "           6       0.93      0.94      0.94       102\n",
      "           7       0.93      0.93      0.93       115\n",
      "           8       0.89      0.95      0.92        94\n",
      "           9       0.92      0.88      0.90        90\n",
      "\n",
      "    accuracy                           0.93      1000\n",
      "   macro avg       0.93      0.92      0.92      1000\n",
      "weighted avg       0.93      0.93      0.93      1000\n",
      "\n"
     ]
    }
   ],
   "source": [
    "y_pred = grid_search.predict(X_test)\n",
    "\n",
    "print(classification_report(y_test, y_pred))"
   ]
  },
  {
   "cell_type": "markdown",
   "metadata": {},
   "source": [
    "Caranya:\n",
    "\n",
    "+ Untuk melakukan prediksi disini juga agak sedikit berbeda, kita tidak menggunakan \"model.predict\" melainkan kita akan memanfaatkan objek _gridsearch nya dengan memanggil method \"grid_search.predict\" dengan menyertakan nilai dari variabel \"(X_test)\". Lalu hasil prediksinya kita akan tampung kedalam variabel \"y_pred\".\n",
    "+ Untuk selanjutnya nilai \"y_pred\" tersebut kita akan bandingkan dengan nilai \"y_test\" dengan menggunakan \"classification_report\"."
   ]
  }
 ],
 "metadata": {
  "kernelspec": {
   "display_name": "Python 3",
   "language": "python",
   "name": "python3"
  },
  "language_info": {
   "codemirror_mode": {
    "name": "ipython",
    "version": 3
   },
   "file_extension": ".py",
   "mimetype": "text/x-python",
   "name": "python",
   "nbconvert_exporter": "python",
   "pygments_lexer": "ipython3",
   "version": "3.8.5"
  }
 },
 "nbformat": 4,
 "nbformat_minor": 4
}
